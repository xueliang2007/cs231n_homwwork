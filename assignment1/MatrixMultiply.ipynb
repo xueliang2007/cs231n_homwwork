{
 "cells": [
  {
   "cell_type": "markdown",
   "metadata": {},
   "source": [
    "# 作业\n",
    "只是用python中的list，实现矩阵的乘法"
   ]
  },
  {
   "cell_type": "code",
   "execution_count": 22,
   "metadata": {},
   "outputs": [],
   "source": [
    "class MatrixMethod(object):\n",
    "    #constructor\n",
    "    def __init__(self,):\n",
    "        pass #creat an instance variable\n",
    "    \n",
    "    #instance method\n",
    "    def Multiply(x, y):\n",
    "        assert(len(x[0]) == len(y))\n",
    " \n",
    "        rows = len(x) #乘积矩阵的行\n",
    "        cols = len(y[0])#乘积矩阵的行\n",
    "        k_temp = len(x[0])\n",
    "        result = []\n",
    "        for i in range(rows):\n",
    "            r=[]\n",
    "            for j in range(cols):\n",
    "                value=0\n",
    "                for k in range(k_temp):\n",
    "                    value += x[i][k]*y[k][j]\n",
    "                r.append(value)\n",
    "            result.append(r)\n",
    "        return result"
   ]
  },
  {
   "cell_type": "code",
   "execution_count": 23,
   "metadata": {},
   "outputs": [
    {
     "name": "stdout",
     "output_type": "stream",
     "text": [
      "a is\n",
      " [[7, 8], [3, 4], [3, 4], [3, 4], [3, 4]]\n",
      "b is\n",
      " [[1, 1, 1, 1, 1, 1, 1, 1, 1], [3, 3, 3, 1, 1, 1, 1, 1, 1]]\n"
     ]
    }
   ],
   "source": [
    "a=[[7,8],[3,4],[3,4],[3,4],[3,4]]\n",
    "b=[[1,1,1,1,1,1,1,1,1],[3,3,3,1,1,1,1,1,1]]\n",
    "print(\"a is\\n\",a)\n",
    "print(\"b is\\n\",b)"
   ]
  },
  {
   "cell_type": "code",
   "execution_count": 24,
   "metadata": {},
   "outputs": [
    {
     "name": "stdout",
     "output_type": "stream",
     "text": [
      "d is\n",
      " [[31, 31, 31, 15, 15, 15, 15, 15, 15], [15, 15, 15, 7, 7, 7, 7, 7, 7], [15, 15, 15, 7, 7, 7, 7, 7, 7], [15, 15, 15, 7, 7, 7, 7, 7, 7], [15, 15, 15, 7, 7, 7, 7, 7, 7]]\n"
     ]
    }
   ],
   "source": [
    "d = MatrixMethod.Multiply(a,b)\n",
    "print(\"d is\\n\",d)"
   ]
  },
  {
   "cell_type": "code",
   "execution_count": 25,
   "metadata": {},
   "outputs": [
    {
     "name": "stdout",
     "output_type": "stream",
     "text": [
      "c is\n",
      " [[31 31 31 15 15 15 15 15 15]\n",
      " [15 15 15  7  7  7  7  7  7]\n",
      " [15 15 15  7  7  7  7  7  7]\n",
      " [15 15 15  7  7  7  7  7  7]\n",
      " [15 15 15  7  7  7  7  7  7]]\n"
     ]
    }
   ],
   "source": [
    "import numpy as np\n",
    "c = np.dot(a,b)\n",
    "print(\"c is\\n\",c)"
   ]
  },
  {
   "cell_type": "code",
   "execution_count": 26,
   "metadata": {},
   "outputs": [
    {
     "data": {
      "text/plain": [
       "array([[0, 0, 0, 0, 0, 0, 0, 0, 0],\n",
       "       [0, 0, 0, 0, 0, 0, 0, 0, 0],\n",
       "       [0, 0, 0, 0, 0, 0, 0, 0, 0],\n",
       "       [0, 0, 0, 0, 0, 0, 0, 0, 0],\n",
       "       [0, 0, 0, 0, 0, 0, 0, 0, 0]])"
      ]
     },
     "execution_count": 26,
     "metadata": {},
     "output_type": "execute_result"
    }
   ],
   "source": [
    "c-d"
   ]
  },
  {
   "cell_type": "code",
   "execution_count": null,
   "metadata": {},
   "outputs": [],
   "source": []
  }
 ],
 "metadata": {
  "kernelspec": {
   "display_name": "Python 3",
   "language": "python",
   "name": "python3"
  },
  "language_info": {
   "codemirror_mode": {
    "name": "ipython",
    "version": 3
   },
   "file_extension": ".py",
   "mimetype": "text/x-python",
   "name": "python",
   "nbconvert_exporter": "python",
   "pygments_lexer": "ipython3",
   "version": "3.5.0"
  }
 },
 "nbformat": 4,
 "nbformat_minor": 2
}
